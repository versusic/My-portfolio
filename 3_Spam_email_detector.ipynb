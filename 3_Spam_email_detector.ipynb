{
  "nbformat": 4,
  "nbformat_minor": 0,
  "metadata": {
    "colab": {
      "provenance": [],
      "authorship_tag": "ABX9TyNDwirFCPmhogtXef0KSEaR",
      "include_colab_link": true
    },
    "kernelspec": {
      "name": "python3",
      "display_name": "Python 3"
    },
    "language_info": {
      "name": "python"
    }
  },
  "cells": [
    {
      "cell_type": "markdown",
      "metadata": {
        "id": "view-in-github",
        "colab_type": "text"
      },
      "source": [
        "<a href=\"https://colab.research.google.com/github/versusic/My-portfolio/blob/main/3_Spam_email_detector.ipynb\" target=\"_parent\"><img src=\"https://colab.research.google.com/assets/colab-badge.svg\" alt=\"Open In Colab\"/></a>"
      ]
    },
    {
      "cell_type": "markdown",
      "source": [
        "# 1. Import libraries"
      ],
      "metadata": {
        "id": "Ni4Ol7JGam9Z"
      }
    },
    {
      "cell_type": "code",
      "execution_count": 1,
      "metadata": {
        "id": "N9-fgVALxj0V"
      },
      "outputs": [],
      "source": [
        "import pandas as pd\n",
        "import numpy as np\n",
        "import matplotlib.pyplot as plt\n",
        "import re\n",
        "\n",
        "import torch\n",
        "import torch.nn as nn\n",
        "import torch.nn.functional as F\n",
        "from torch.autograd import Variable\n",
        "import torchvision\n",
        "import torchvision.transforms as transforms\n",
        "from torch.utils.data import DataLoader, TensorDataset\n",
        "\n",
        "import nltk\n",
        "from nltk.tokenize import word_tokenize\n",
        "from nltk.corpus import stopwords\n",
        "from nltk.stem import WordNetLemmatizer\n",
        "from nltk.corpus import wordnet\n",
        "\n",
        "from sklearn.feature_extraction.text import CountVectorizer\n",
        "from sklearn.model_selection import train_test_split"
      ]
    },
    {
      "cell_type": "code",
      "source": [
        "nltk.download('punkt')\n",
        "nltk.download('wordnet')\n",
        "nltk.download('averaged_perceptron_tagger')\n",
        "nltk.download('stopwords')"
      ],
      "metadata": {
        "colab": {
          "base_uri": "https://localhost:8080/"
        },
        "id": "lsXkANZuPP2r",
        "outputId": "1b823562-4711-41d1-b2fa-5538df3386d1"
      },
      "execution_count": 2,
      "outputs": [
        {
          "output_type": "stream",
          "name": "stderr",
          "text": [
            "[nltk_data] Downloading package punkt to /root/nltk_data...\n",
            "[nltk_data]   Package punkt is already up-to-date!\n",
            "[nltk_data] Downloading package wordnet to /root/nltk_data...\n",
            "[nltk_data]   Package wordnet is already up-to-date!\n",
            "[nltk_data] Downloading package averaged_perceptron_tagger to\n",
            "[nltk_data]     /root/nltk_data...\n",
            "[nltk_data]   Package averaged_perceptron_tagger is already up-to-\n",
            "[nltk_data]       date!\n",
            "[nltk_data] Downloading package stopwords to /root/nltk_data...\n",
            "[nltk_data]   Package stopwords is already up-to-date!\n"
          ]
        },
        {
          "output_type": "execute_result",
          "data": {
            "text/plain": [
              "True"
            ]
          },
          "metadata": {},
          "execution_count": 2
        }
      ]
    },
    {
      "cell_type": "markdown",
      "source": [
        "# 2. install the dataset"
      ],
      "metadata": {
        "id": "mptTrka8avK8"
      }
    },
    {
      "cell_type": "code",
      "source": [
        "spam_not_spam_dataset_url = 'https://raw.githubusercontent.com/parameswaraRao-13/DL_MOdel_for_Spam_Email_Detection/master/spam_or_not_spam.csv'\n",
        "df = pd.read_csv(spam_not_spam_dataset_url)\n",
        "df.head()"
      ],
      "metadata": {
        "colab": {
          "base_uri": "https://localhost:8080/",
          "height": 206
        },
        "id": "NWEn1JkGE97_",
        "outputId": "968fa9c4-e982-4853-c732-4e225cf02a05"
      },
      "execution_count": 3,
      "outputs": [
        {
          "output_type": "execute_result",
          "data": {
            "text/plain": [
              "                                               email  label\n",
              "0   date wed NUMBER aug NUMBER NUMBER NUMBER NUMB...      0\n",
              "1  martin a posted tassos papadopoulos the greek ...      0\n",
              "2  man threatens explosion in moscow thursday aug...      0\n",
              "3  klez the virus that won t die already the most...      0\n",
              "4   in adding cream to spaghetti carbonara which ...      0"
            ],
            "text/html": [
              "\n",
              "  <div id=\"df-5874c316-a8d7-41eb-bd56-7e8a2ee5c9c3\" class=\"colab-df-container\">\n",
              "    <div>\n",
              "<style scoped>\n",
              "    .dataframe tbody tr th:only-of-type {\n",
              "        vertical-align: middle;\n",
              "    }\n",
              "\n",
              "    .dataframe tbody tr th {\n",
              "        vertical-align: top;\n",
              "    }\n",
              "\n",
              "    .dataframe thead th {\n",
              "        text-align: right;\n",
              "    }\n",
              "</style>\n",
              "<table border=\"1\" class=\"dataframe\">\n",
              "  <thead>\n",
              "    <tr style=\"text-align: right;\">\n",
              "      <th></th>\n",
              "      <th>email</th>\n",
              "      <th>label</th>\n",
              "    </tr>\n",
              "  </thead>\n",
              "  <tbody>\n",
              "    <tr>\n",
              "      <th>0</th>\n",
              "      <td>date wed NUMBER aug NUMBER NUMBER NUMBER NUMB...</td>\n",
              "      <td>0</td>\n",
              "    </tr>\n",
              "    <tr>\n",
              "      <th>1</th>\n",
              "      <td>martin a posted tassos papadopoulos the greek ...</td>\n",
              "      <td>0</td>\n",
              "    </tr>\n",
              "    <tr>\n",
              "      <th>2</th>\n",
              "      <td>man threatens explosion in moscow thursday aug...</td>\n",
              "      <td>0</td>\n",
              "    </tr>\n",
              "    <tr>\n",
              "      <th>3</th>\n",
              "      <td>klez the virus that won t die already the most...</td>\n",
              "      <td>0</td>\n",
              "    </tr>\n",
              "    <tr>\n",
              "      <th>4</th>\n",
              "      <td>in adding cream to spaghetti carbonara which ...</td>\n",
              "      <td>0</td>\n",
              "    </tr>\n",
              "  </tbody>\n",
              "</table>\n",
              "</div>\n",
              "    <div class=\"colab-df-buttons\">\n",
              "\n",
              "  <div class=\"colab-df-container\">\n",
              "    <button class=\"colab-df-convert\" onclick=\"convertToInteractive('df-5874c316-a8d7-41eb-bd56-7e8a2ee5c9c3')\"\n",
              "            title=\"Convert this dataframe to an interactive table.\"\n",
              "            style=\"display:none;\">\n",
              "\n",
              "  <svg xmlns=\"http://www.w3.org/2000/svg\" height=\"24px\" viewBox=\"0 -960 960 960\">\n",
              "    <path d=\"M120-120v-720h720v720H120Zm60-500h600v-160H180v160Zm220 220h160v-160H400v160Zm0 220h160v-160H400v160ZM180-400h160v-160H180v160Zm440 0h160v-160H620v160ZM180-180h160v-160H180v160Zm440 0h160v-160H620v160Z\"/>\n",
              "  </svg>\n",
              "    </button>\n",
              "\n",
              "  <style>\n",
              "    .colab-df-container {\n",
              "      display:flex;\n",
              "      gap: 12px;\n",
              "    }\n",
              "\n",
              "    .colab-df-convert {\n",
              "      background-color: #E8F0FE;\n",
              "      border: none;\n",
              "      border-radius: 50%;\n",
              "      cursor: pointer;\n",
              "      display: none;\n",
              "      fill: #1967D2;\n",
              "      height: 32px;\n",
              "      padding: 0 0 0 0;\n",
              "      width: 32px;\n",
              "    }\n",
              "\n",
              "    .colab-df-convert:hover {\n",
              "      background-color: #E2EBFA;\n",
              "      box-shadow: 0px 1px 2px rgba(60, 64, 67, 0.3), 0px 1px 3px 1px rgba(60, 64, 67, 0.15);\n",
              "      fill: #174EA6;\n",
              "    }\n",
              "\n",
              "    .colab-df-buttons div {\n",
              "      margin-bottom: 4px;\n",
              "    }\n",
              "\n",
              "    [theme=dark] .colab-df-convert {\n",
              "      background-color: #3B4455;\n",
              "      fill: #D2E3FC;\n",
              "    }\n",
              "\n",
              "    [theme=dark] .colab-df-convert:hover {\n",
              "      background-color: #434B5C;\n",
              "      box-shadow: 0px 1px 3px 1px rgba(0, 0, 0, 0.15);\n",
              "      filter: drop-shadow(0px 1px 2px rgba(0, 0, 0, 0.3));\n",
              "      fill: #FFFFFF;\n",
              "    }\n",
              "  </style>\n",
              "\n",
              "    <script>\n",
              "      const buttonEl =\n",
              "        document.querySelector('#df-5874c316-a8d7-41eb-bd56-7e8a2ee5c9c3 button.colab-df-convert');\n",
              "      buttonEl.style.display =\n",
              "        google.colab.kernel.accessAllowed ? 'block' : 'none';\n",
              "\n",
              "      async function convertToInteractive(key) {\n",
              "        const element = document.querySelector('#df-5874c316-a8d7-41eb-bd56-7e8a2ee5c9c3');\n",
              "        const dataTable =\n",
              "          await google.colab.kernel.invokeFunction('convertToInteractive',\n",
              "                                                    [key], {});\n",
              "        if (!dataTable) return;\n",
              "\n",
              "        const docLinkHtml = 'Like what you see? Visit the ' +\n",
              "          '<a target=\"_blank\" href=https://colab.research.google.com/notebooks/data_table.ipynb>data table notebook</a>'\n",
              "          + ' to learn more about interactive tables.';\n",
              "        element.innerHTML = '';\n",
              "        dataTable['output_type'] = 'display_data';\n",
              "        await google.colab.output.renderOutput(dataTable, element);\n",
              "        const docLink = document.createElement('div');\n",
              "        docLink.innerHTML = docLinkHtml;\n",
              "        element.appendChild(docLink);\n",
              "      }\n",
              "    </script>\n",
              "  </div>\n",
              "\n",
              "\n",
              "<div id=\"df-9971fc09-4758-43a3-a956-949e17076a79\">\n",
              "  <button class=\"colab-df-quickchart\" onclick=\"quickchart('df-9971fc09-4758-43a3-a956-949e17076a79')\"\n",
              "            title=\"Suggest charts\"\n",
              "            style=\"display:none;\">\n",
              "\n",
              "<svg xmlns=\"http://www.w3.org/2000/svg\" height=\"24px\"viewBox=\"0 0 24 24\"\n",
              "     width=\"24px\">\n",
              "    <g>\n",
              "        <path d=\"M19 3H5c-1.1 0-2 .9-2 2v14c0 1.1.9 2 2 2h14c1.1 0 2-.9 2-2V5c0-1.1-.9-2-2-2zM9 17H7v-7h2v7zm4 0h-2V7h2v10zm4 0h-2v-4h2v4z\"/>\n",
              "    </g>\n",
              "</svg>\n",
              "  </button>\n",
              "\n",
              "<style>\n",
              "  .colab-df-quickchart {\n",
              "      --bg-color: #E8F0FE;\n",
              "      --fill-color: #1967D2;\n",
              "      --hover-bg-color: #E2EBFA;\n",
              "      --hover-fill-color: #174EA6;\n",
              "      --disabled-fill-color: #AAA;\n",
              "      --disabled-bg-color: #DDD;\n",
              "  }\n",
              "\n",
              "  [theme=dark] .colab-df-quickchart {\n",
              "      --bg-color: #3B4455;\n",
              "      --fill-color: #D2E3FC;\n",
              "      --hover-bg-color: #434B5C;\n",
              "      --hover-fill-color: #FFFFFF;\n",
              "      --disabled-bg-color: #3B4455;\n",
              "      --disabled-fill-color: #666;\n",
              "  }\n",
              "\n",
              "  .colab-df-quickchart {\n",
              "    background-color: var(--bg-color);\n",
              "    border: none;\n",
              "    border-radius: 50%;\n",
              "    cursor: pointer;\n",
              "    display: none;\n",
              "    fill: var(--fill-color);\n",
              "    height: 32px;\n",
              "    padding: 0;\n",
              "    width: 32px;\n",
              "  }\n",
              "\n",
              "  .colab-df-quickchart:hover {\n",
              "    background-color: var(--hover-bg-color);\n",
              "    box-shadow: 0 1px 2px rgba(60, 64, 67, 0.3), 0 1px 3px 1px rgba(60, 64, 67, 0.15);\n",
              "    fill: var(--button-hover-fill-color);\n",
              "  }\n",
              "\n",
              "  .colab-df-quickchart-complete:disabled,\n",
              "  .colab-df-quickchart-complete:disabled:hover {\n",
              "    background-color: var(--disabled-bg-color);\n",
              "    fill: var(--disabled-fill-color);\n",
              "    box-shadow: none;\n",
              "  }\n",
              "\n",
              "  .colab-df-spinner {\n",
              "    border: 2px solid var(--fill-color);\n",
              "    border-color: transparent;\n",
              "    border-bottom-color: var(--fill-color);\n",
              "    animation:\n",
              "      spin 1s steps(1) infinite;\n",
              "  }\n",
              "\n",
              "  @keyframes spin {\n",
              "    0% {\n",
              "      border-color: transparent;\n",
              "      border-bottom-color: var(--fill-color);\n",
              "      border-left-color: var(--fill-color);\n",
              "    }\n",
              "    20% {\n",
              "      border-color: transparent;\n",
              "      border-left-color: var(--fill-color);\n",
              "      border-top-color: var(--fill-color);\n",
              "    }\n",
              "    30% {\n",
              "      border-color: transparent;\n",
              "      border-left-color: var(--fill-color);\n",
              "      border-top-color: var(--fill-color);\n",
              "      border-right-color: var(--fill-color);\n",
              "    }\n",
              "    40% {\n",
              "      border-color: transparent;\n",
              "      border-right-color: var(--fill-color);\n",
              "      border-top-color: var(--fill-color);\n",
              "    }\n",
              "    60% {\n",
              "      border-color: transparent;\n",
              "      border-right-color: var(--fill-color);\n",
              "    }\n",
              "    80% {\n",
              "      border-color: transparent;\n",
              "      border-right-color: var(--fill-color);\n",
              "      border-bottom-color: var(--fill-color);\n",
              "    }\n",
              "    90% {\n",
              "      border-color: transparent;\n",
              "      border-bottom-color: var(--fill-color);\n",
              "    }\n",
              "  }\n",
              "</style>\n",
              "\n",
              "  <script>\n",
              "    async function quickchart(key) {\n",
              "      const quickchartButtonEl =\n",
              "        document.querySelector('#' + key + ' button');\n",
              "      quickchartButtonEl.disabled = true;  // To prevent multiple clicks.\n",
              "      quickchartButtonEl.classList.add('colab-df-spinner');\n",
              "      try {\n",
              "        const charts = await google.colab.kernel.invokeFunction(\n",
              "            'suggestCharts', [key], {});\n",
              "      } catch (error) {\n",
              "        console.error('Error during call to suggestCharts:', error);\n",
              "      }\n",
              "      quickchartButtonEl.classList.remove('colab-df-spinner');\n",
              "      quickchartButtonEl.classList.add('colab-df-quickchart-complete');\n",
              "    }\n",
              "    (() => {\n",
              "      let quickchartButtonEl =\n",
              "        document.querySelector('#df-9971fc09-4758-43a3-a956-949e17076a79 button');\n",
              "      quickchartButtonEl.style.display =\n",
              "        google.colab.kernel.accessAllowed ? 'block' : 'none';\n",
              "    })();\n",
              "  </script>\n",
              "</div>\n",
              "\n",
              "    </div>\n",
              "  </div>\n"
            ],
            "application/vnd.google.colaboratory.intrinsic+json": {
              "type": "dataframe",
              "variable_name": "df",
              "summary": "{\n  \"name\": \"df\",\n  \"rows\": 3000,\n  \"fields\": [\n    {\n      \"column\": \"email\",\n      \"properties\": {\n        \"dtype\": \"string\",\n        \"num_unique_values\": 2872,\n        \"samples\": [\n          \"i ve seen articles on this type of stuff passing through various forums for several years i ve always found archaeology interesting for no particular reason here is a recent article from u s news that i actually still have in the dank recesses of my virtual repository james rogers jamesr URL URL defrosting the past ancient human and animal remains are melting out of glaciers a bounty of a warming world by alex markels as he hiked near colorado s continental divide in the summer of NUMBER ed knapp noticed a strange shape jutting from a melting ice field at NUMBER NUMBER feet it looked like a bison skull the building contractor and amateur archaeologist recalls i thought that s strange bison don t live this high up knapp brought the skull to the denver museum of nature and science where scientists last month announced that it was indeed from a bison one that died about NUMBER years ago this was an extraordinary discovery says russ graham the museum s chief curator adding that it could alter notions of the mountain environment centuries ago there s probably a lot more like it yet to be found and not just bison colorado isn t the only place where glaciers and snowfields are melting decades of unusual warmth in regions from peru to alaska a trend some think is linked to emissions from cars and industry have shrunk or thawed many of the world s NUMBER NUMBER glaciers as the ice recedes a treasure trove of human and animal artifacts is emerging extraordinarily well preserved after centuries in the deep freeze the fabrics wood bone and dna rich tissue found on the mucky fringes of the ice are revising scientists understanding of our predecessors health habits and technology and the prey they pursued it s mind boggling how many different fields are being advanced through studying these remains says johan reinhard a high altitude archaeologist and explorer in residence at the national geographic society rare spectacular finds like the frozen mummies he discovered in the andes of peru in the NUMBERs and the legendary NUMBER NUMBER year old ice man found at the edge of a receding glacier in the alps in NUMBER have offered time capsules of cultural and biological information now as the ice continues to retreat it is yielding not just occasional treasures but long records of humans and animals in the high mountains vanishing act the trick is finding such specimens before mother nature and looters take them first once uncovered frozen remains can deteriorate within hours or be gnawed by animals moreover they re often so well preserved when they emerge that people who come upon them don t even realize they re ancient that was the case when three men hunting sheep near a high glacier in british columbia canada three years ago saw what they thought was a dead animal it looked a little like sealskin buried in the ice recalls warren ward a teacher from nearby nelson but when i looked closer i could see leather fringe from a coat and finger bones figuring they had found the remains of another hunter or perhaps a fur trapper the men stowed a flint knife and other artifacts in a zip loc bag and delivered them to local officials archaeologists later exhumed the fallen hunter s body along with a woven hat fur clothing and what seemed to be a medicine bag carbon dating revealed that the hunter lived about NUMBER years ago dubbed kwaday dan ts inchi or long ago person found by people of the champagne and aishihik first nations who may be his direct descendants he is perhaps the best preserved human from the period ever found in north america other findings from melting ice in the neighboring yukon region could explain what that long ago person was doing in the mountains in the first place before this there was no archaeological record of people living here says greg hare a yukon government archaeologist now we see that this area was very much part of people s seasonal activities like ward s discovery the search began by chance when kristin benedek caught a whiff of what smelled like a barnyard as she and her husband gerry kuzyk hunted sheep at NUMBER NUMBER feet in the mountains of the south yukon they followed the scent to a melting patch of ice covered in caribou dung it was really odd because i knew there hadn t been caribou in the area for at least NUMBER years recalls kuzyk then a wildlife biologist with the yukon government caribou cake returning a week later he found what looked like a pencil with string wrapped around it it turned out to be a NUMBER NUMBER year old atlatl or spear thrower further investigation of the ice patch and scores of others around the region revealed icy layer cakes filled with caribou remains and human detritus chronicling NUMBER NUMBER years of changing hunting practices scientists now believe ancient caribou and other animals flocked to the ice each summer to cool down and escape swarming mosquitoes and flies hunters followed the game they returned for centuries and discarded some equipment in the ice we ve got people hunting with throwing darts up until NUMBER NUMBER years ago says hare who now oversees the research project then we see the first appearance of the bow and arrow about NUMBER NUMBER years ago and by NUMBER NUMBER years ago there s no more throwing darts now scientists are trying to make the search less a matter of luck they are developing sophisticated computer models that combine data on where glaciers are melting fastest and where humans and animals are known to have migrated to pinpoint the best places to search in alaska s wrangell and st elias mountain ranges the united states most glaciated terrain and in the andes johan reinhard thinks the fast thawing european alps could also deliver more findings perhaps as exquisite as the ice man global warming is providing us high altitude archaeologists with some fantastic opportunities right now we re probably about the only ones happy about it \",\n          \" hyperlink legal teen xxx hardcoreNUMBER free boy was gauge surprised when joey s friend conveniently showed up as things were getting hot she always dreamed of sucking two cocks while she played with herself during study hall but fantasy is different than reality i wonder if she ever gave a thought to where those dicks would end up after they were done with her mouth find out for NUMBER free at legal teen girls we just added gauge s three way you have to see it we have tons of other sweet young teens getting it in ways they never imagined possible for free hyperlink click here for your NUMBER free lifetime membership disclaimer we are strongly against sending unsolicited emails to those who do not wish to receive our special mailings you have opted in to one or more of our affiliate sites requesting to be notified of any special offers we may run from time to time we also have attained the services of an independent NUMBERrd party to overlook list management and removal services this is not unsolicited email if you do not wish to receive further mailings please hyperlink click here to be removed from the list please accept our apologies if you have been sent this email in error we honor all removal requests \",\n          \"if anyone here is running null beta then you may like these gnome theme packages they are enhanced and repackages from my previous theme packs this time to conform to the way pre release rhNUMBER handles themes for gtkNUMBER and gtkNUMBER redhat has a preferences themes app but themes only show up there that have both gtkNUMBER NUMBER gnomeNUMBER themes and gtkNUMBER NUMBER gtkNUMBER aka gnomeNUMBER themes available then rh will apply the theme to both gtk versions so the user does not really notice that different gtk toolkit versions are being used since they should look the same this gtkNUMBER engines compat rpm has gtkNUMBER ported themes for those themes that are included in the rh package gtk engines themes pack for gtkNUMBER the gtkNUMBER NUMBER themez pack mostly repackages my previous theme rpms in a way that the null btea like and supposedly the next rhNUMBER when released forward original mail from angles puglisi angles aminvestments com date NUMBER NUMBER NUMBER NUMBER NUMBER NUMBER am subject some null eyecandy packages \"\n        ],\n        \"semantic_type\": \"\",\n        \"description\": \"\"\n      }\n    },\n    {\n      \"column\": \"label\",\n      \"properties\": {\n        \"dtype\": \"number\",\n        \"std\": 0,\n        \"min\": 0,\n        \"max\": 1,\n        \"num_unique_values\": 2,\n        \"samples\": [\n          1,\n          0\n        ],\n        \"semantic_type\": \"\",\n        \"description\": \"\"\n      }\n    }\n  ]\n}"
            }
          },
          "metadata": {},
          "execution_count": 3
        }
      ]
    },
    {
      "cell_type": "code",
      "source": [
        "df['label'].value_counts()"
      ],
      "metadata": {
        "colab": {
          "base_uri": "https://localhost:8080/"
        },
        "id": "heDoD7G1HGjZ",
        "outputId": "ae0bfaf7-4b33-4cff-fada-4779ef401b05"
      },
      "execution_count": 4,
      "outputs": [
        {
          "output_type": "execute_result",
          "data": {
            "text/plain": [
              "label\n",
              "0    2500\n",
              "1     500\n",
              "Name: count, dtype: int64"
            ]
          },
          "metadata": {},
          "execution_count": 4
        }
      ]
    },
    {
      "cell_type": "code",
      "source": [
        "df.info()"
      ],
      "metadata": {
        "colab": {
          "base_uri": "https://localhost:8080/"
        },
        "id": "6fItN-6-Mjt9",
        "outputId": "5c2f8b35-5703-40e2-89b2-88c9a20e4610"
      },
      "execution_count": 5,
      "outputs": [
        {
          "output_type": "stream",
          "name": "stdout",
          "text": [
            "<class 'pandas.core.frame.DataFrame'>\n",
            "RangeIndex: 3000 entries, 0 to 2999\n",
            "Data columns (total 2 columns):\n",
            " #   Column  Non-Null Count  Dtype \n",
            "---  ------  --------------  ----- \n",
            " 0   email   2999 non-null   object\n",
            " 1   label   3000 non-null   int64 \n",
            "dtypes: int64(1), object(1)\n",
            "memory usage: 47.0+ KB\n"
          ]
        }
      ]
    },
    {
      "cell_type": "markdown",
      "source": [
        "# 3. data preperation"
      ],
      "metadata": {
        "id": "O55s_W--a1Oo"
      }
    },
    {
      "cell_type": "code",
      "source": [
        "df.dropna(inplace=True)"
      ],
      "metadata": {
        "id": "fmUMDcCdkM8o"
      },
      "execution_count": 6,
      "outputs": []
    },
    {
      "cell_type": "code",
      "source": [
        "# changing all words to lowercase\n",
        "df = df.applymap(lambda x: x.lower() if isinstance(x, str) else x)"
      ],
      "metadata": {
        "id": "EvujHTbOjmpJ"
      },
      "execution_count": 7,
      "outputs": []
    },
    {
      "cell_type": "code",
      "source": [
        "# Define a regex pattern to match URLs\n",
        "url_pattern = re.compile(r'https?://\\S+')\n",
        "\n",
        "# Define a function to remove URLs from text\n",
        "def remove_urls(text):\n",
        "    return url_pattern.sub('', text)\n",
        "\n",
        "# remove URLs from text\n",
        "df['email'] = df['email'].apply(remove_urls)"
      ],
      "metadata": {
        "id": "OTZfJEYDjnMh"
      },
      "execution_count": 8,
      "outputs": []
    },
    {
      "cell_type": "code",
      "source": [
        "# remove non-word and non-whitespace words\n",
        "df['email'] = df['email'].replace(to_replace=r'[^\\w\\s]', value='', regex=True)\n",
        "\n",
        "# remove digits\n",
        "df['email'] = df['email'].replace(to_replace=r'\\d', value='', regex=True)"
      ],
      "metadata": {
        "id": "t94WpNVDjqgm"
      },
      "execution_count": 9,
      "outputs": []
    },
    {
      "cell_type": "code",
      "source": [
        "# tokenization\n",
        "df['email'] = df['email'].apply(word_tokenize)"
      ],
      "metadata": {
        "id": "uoxEPXpYjt8E"
      },
      "execution_count": 10,
      "outputs": []
    },
    {
      "cell_type": "code",
      "source": [
        "# remove stop words\n",
        "stop_words = set(stopwords.words('english'))\n",
        "df['email'] = df['email'].apply(lambda x: [word for word in x if word not in stop_words])"
      ],
      "metadata": {
        "id": "Tf8JxehgjwsG"
      },
      "execution_count": 11,
      "outputs": []
    },
    {
      "cell_type": "code",
      "source": [
        "# initialize lemmatizer\n",
        "lemmatizer = WordNetLemmatizer()\n",
        "\n",
        "# define function to lemmatize tokens\n",
        "def lemmatize_tokens(tokens):\n",
        "    # convert POS tag to WordNet format\n",
        "    def get_wordnet_pos(word):\n",
        "        tag = nltk.pos_tag([word])[0][1][0].upper()\n",
        "        tag_dict = {\"J\": wordnet.ADJ,\n",
        "                    \"N\": wordnet.NOUN,\n",
        "                    \"V\": wordnet.VERB,\n",
        "                    \"R\": wordnet.ADV}\n",
        "        return tag_dict.get(tag, wordnet.NOUN)\n",
        "\n",
        "    # lemmatize tokens\n",
        "    lemmas = [lemmatizer.lemmatize(token, get_wordnet_pos(token)) for token in tokens]\n",
        "\n",
        "    # return lemmatized tokens as a list\n",
        "    return lemmas\n",
        "\n",
        "# apply lemmatization to the text\n",
        "df['email'] = df['email'].apply(lemmatize_tokens)"
      ],
      "metadata": {
        "id": "Soe10AWwN2Pe"
      },
      "execution_count": 12,
      "outputs": []
    },
    {
      "cell_type": "code",
      "source": [
        "# putting all words together\n",
        "df['email'] = df['email'].apply(lambda x: ' '.join(x))"
      ],
      "metadata": {
        "id": "b3JZfPwUoH66"
      },
      "execution_count": 13,
      "outputs": []
    },
    {
      "cell_type": "code",
      "source": [
        "df.head()"
      ],
      "metadata": {
        "colab": {
          "base_uri": "https://localhost:8080/",
          "height": 206
        },
        "id": "A0ghkvOIlDpG",
        "outputId": "71a1af41-94ea-4e7b-87bb-a5f6fb63eaf8"
      },
      "execution_count": 14,
      "outputs": [
        {
          "output_type": "execute_result",
          "data": {
            "text/plain": [
              "                                               email  label\n",
              "0  date wed number aug number number number numbe...      0\n",
              "1  martin post tasso papadopoulos greek sculptor ...      0\n",
              "2  man threatens explosion moscow thursday august...      0\n",
              "3  klez virus die already prolific virus ever kle...      0\n",
              "4  add cream spaghetti carbonara effect pasta mak...      0"
            ],
            "text/html": [
              "\n",
              "  <div id=\"df-398a8746-e8b3-4d2b-92b6-3515f40624ea\" class=\"colab-df-container\">\n",
              "    <div>\n",
              "<style scoped>\n",
              "    .dataframe tbody tr th:only-of-type {\n",
              "        vertical-align: middle;\n",
              "    }\n",
              "\n",
              "    .dataframe tbody tr th {\n",
              "        vertical-align: top;\n",
              "    }\n",
              "\n",
              "    .dataframe thead th {\n",
              "        text-align: right;\n",
              "    }\n",
              "</style>\n",
              "<table border=\"1\" class=\"dataframe\">\n",
              "  <thead>\n",
              "    <tr style=\"text-align: right;\">\n",
              "      <th></th>\n",
              "      <th>email</th>\n",
              "      <th>label</th>\n",
              "    </tr>\n",
              "  </thead>\n",
              "  <tbody>\n",
              "    <tr>\n",
              "      <th>0</th>\n",
              "      <td>date wed number aug number number number numbe...</td>\n",
              "      <td>0</td>\n",
              "    </tr>\n",
              "    <tr>\n",
              "      <th>1</th>\n",
              "      <td>martin post tasso papadopoulos greek sculptor ...</td>\n",
              "      <td>0</td>\n",
              "    </tr>\n",
              "    <tr>\n",
              "      <th>2</th>\n",
              "      <td>man threatens explosion moscow thursday august...</td>\n",
              "      <td>0</td>\n",
              "    </tr>\n",
              "    <tr>\n",
              "      <th>3</th>\n",
              "      <td>klez virus die already prolific virus ever kle...</td>\n",
              "      <td>0</td>\n",
              "    </tr>\n",
              "    <tr>\n",
              "      <th>4</th>\n",
              "      <td>add cream spaghetti carbonara effect pasta mak...</td>\n",
              "      <td>0</td>\n",
              "    </tr>\n",
              "  </tbody>\n",
              "</table>\n",
              "</div>\n",
              "    <div class=\"colab-df-buttons\">\n",
              "\n",
              "  <div class=\"colab-df-container\">\n",
              "    <button class=\"colab-df-convert\" onclick=\"convertToInteractive('df-398a8746-e8b3-4d2b-92b6-3515f40624ea')\"\n",
              "            title=\"Convert this dataframe to an interactive table.\"\n",
              "            style=\"display:none;\">\n",
              "\n",
              "  <svg xmlns=\"http://www.w3.org/2000/svg\" height=\"24px\" viewBox=\"0 -960 960 960\">\n",
              "    <path d=\"M120-120v-720h720v720H120Zm60-500h600v-160H180v160Zm220 220h160v-160H400v160Zm0 220h160v-160H400v160ZM180-400h160v-160H180v160Zm440 0h160v-160H620v160ZM180-180h160v-160H180v160Zm440 0h160v-160H620v160Z\"/>\n",
              "  </svg>\n",
              "    </button>\n",
              "\n",
              "  <style>\n",
              "    .colab-df-container {\n",
              "      display:flex;\n",
              "      gap: 12px;\n",
              "    }\n",
              "\n",
              "    .colab-df-convert {\n",
              "      background-color: #E8F0FE;\n",
              "      border: none;\n",
              "      border-radius: 50%;\n",
              "      cursor: pointer;\n",
              "      display: none;\n",
              "      fill: #1967D2;\n",
              "      height: 32px;\n",
              "      padding: 0 0 0 0;\n",
              "      width: 32px;\n",
              "    }\n",
              "\n",
              "    .colab-df-convert:hover {\n",
              "      background-color: #E2EBFA;\n",
              "      box-shadow: 0px 1px 2px rgba(60, 64, 67, 0.3), 0px 1px 3px 1px rgba(60, 64, 67, 0.15);\n",
              "      fill: #174EA6;\n",
              "    }\n",
              "\n",
              "    .colab-df-buttons div {\n",
              "      margin-bottom: 4px;\n",
              "    }\n",
              "\n",
              "    [theme=dark] .colab-df-convert {\n",
              "      background-color: #3B4455;\n",
              "      fill: #D2E3FC;\n",
              "    }\n",
              "\n",
              "    [theme=dark] .colab-df-convert:hover {\n",
              "      background-color: #434B5C;\n",
              "      box-shadow: 0px 1px 3px 1px rgba(0, 0, 0, 0.15);\n",
              "      filter: drop-shadow(0px 1px 2px rgba(0, 0, 0, 0.3));\n",
              "      fill: #FFFFFF;\n",
              "    }\n",
              "  </style>\n",
              "\n",
              "    <script>\n",
              "      const buttonEl =\n",
              "        document.querySelector('#df-398a8746-e8b3-4d2b-92b6-3515f40624ea button.colab-df-convert');\n",
              "      buttonEl.style.display =\n",
              "        google.colab.kernel.accessAllowed ? 'block' : 'none';\n",
              "\n",
              "      async function convertToInteractive(key) {\n",
              "        const element = document.querySelector('#df-398a8746-e8b3-4d2b-92b6-3515f40624ea');\n",
              "        const dataTable =\n",
              "          await google.colab.kernel.invokeFunction('convertToInteractive',\n",
              "                                                    [key], {});\n",
              "        if (!dataTable) return;\n",
              "\n",
              "        const docLinkHtml = 'Like what you see? Visit the ' +\n",
              "          '<a target=\"_blank\" href=https://colab.research.google.com/notebooks/data_table.ipynb>data table notebook</a>'\n",
              "          + ' to learn more about interactive tables.';\n",
              "        element.innerHTML = '';\n",
              "        dataTable['output_type'] = 'display_data';\n",
              "        await google.colab.output.renderOutput(dataTable, element);\n",
              "        const docLink = document.createElement('div');\n",
              "        docLink.innerHTML = docLinkHtml;\n",
              "        element.appendChild(docLink);\n",
              "      }\n",
              "    </script>\n",
              "  </div>\n",
              "\n",
              "\n",
              "<div id=\"df-5ef48dbb-17f3-4377-acee-12c64e76bf06\">\n",
              "  <button class=\"colab-df-quickchart\" onclick=\"quickchart('df-5ef48dbb-17f3-4377-acee-12c64e76bf06')\"\n",
              "            title=\"Suggest charts\"\n",
              "            style=\"display:none;\">\n",
              "\n",
              "<svg xmlns=\"http://www.w3.org/2000/svg\" height=\"24px\"viewBox=\"0 0 24 24\"\n",
              "     width=\"24px\">\n",
              "    <g>\n",
              "        <path d=\"M19 3H5c-1.1 0-2 .9-2 2v14c0 1.1.9 2 2 2h14c1.1 0 2-.9 2-2V5c0-1.1-.9-2-2-2zM9 17H7v-7h2v7zm4 0h-2V7h2v10zm4 0h-2v-4h2v4z\"/>\n",
              "    </g>\n",
              "</svg>\n",
              "  </button>\n",
              "\n",
              "<style>\n",
              "  .colab-df-quickchart {\n",
              "      --bg-color: #E8F0FE;\n",
              "      --fill-color: #1967D2;\n",
              "      --hover-bg-color: #E2EBFA;\n",
              "      --hover-fill-color: #174EA6;\n",
              "      --disabled-fill-color: #AAA;\n",
              "      --disabled-bg-color: #DDD;\n",
              "  }\n",
              "\n",
              "  [theme=dark] .colab-df-quickchart {\n",
              "      --bg-color: #3B4455;\n",
              "      --fill-color: #D2E3FC;\n",
              "      --hover-bg-color: #434B5C;\n",
              "      --hover-fill-color: #FFFFFF;\n",
              "      --disabled-bg-color: #3B4455;\n",
              "      --disabled-fill-color: #666;\n",
              "  }\n",
              "\n",
              "  .colab-df-quickchart {\n",
              "    background-color: var(--bg-color);\n",
              "    border: none;\n",
              "    border-radius: 50%;\n",
              "    cursor: pointer;\n",
              "    display: none;\n",
              "    fill: var(--fill-color);\n",
              "    height: 32px;\n",
              "    padding: 0;\n",
              "    width: 32px;\n",
              "  }\n",
              "\n",
              "  .colab-df-quickchart:hover {\n",
              "    background-color: var(--hover-bg-color);\n",
              "    box-shadow: 0 1px 2px rgba(60, 64, 67, 0.3), 0 1px 3px 1px rgba(60, 64, 67, 0.15);\n",
              "    fill: var(--button-hover-fill-color);\n",
              "  }\n",
              "\n",
              "  .colab-df-quickchart-complete:disabled,\n",
              "  .colab-df-quickchart-complete:disabled:hover {\n",
              "    background-color: var(--disabled-bg-color);\n",
              "    fill: var(--disabled-fill-color);\n",
              "    box-shadow: none;\n",
              "  }\n",
              "\n",
              "  .colab-df-spinner {\n",
              "    border: 2px solid var(--fill-color);\n",
              "    border-color: transparent;\n",
              "    border-bottom-color: var(--fill-color);\n",
              "    animation:\n",
              "      spin 1s steps(1) infinite;\n",
              "  }\n",
              "\n",
              "  @keyframes spin {\n",
              "    0% {\n",
              "      border-color: transparent;\n",
              "      border-bottom-color: var(--fill-color);\n",
              "      border-left-color: var(--fill-color);\n",
              "    }\n",
              "    20% {\n",
              "      border-color: transparent;\n",
              "      border-left-color: var(--fill-color);\n",
              "      border-top-color: var(--fill-color);\n",
              "    }\n",
              "    30% {\n",
              "      border-color: transparent;\n",
              "      border-left-color: var(--fill-color);\n",
              "      border-top-color: var(--fill-color);\n",
              "      border-right-color: var(--fill-color);\n",
              "    }\n",
              "    40% {\n",
              "      border-color: transparent;\n",
              "      border-right-color: var(--fill-color);\n",
              "      border-top-color: var(--fill-color);\n",
              "    }\n",
              "    60% {\n",
              "      border-color: transparent;\n",
              "      border-right-color: var(--fill-color);\n",
              "    }\n",
              "    80% {\n",
              "      border-color: transparent;\n",
              "      border-right-color: var(--fill-color);\n",
              "      border-bottom-color: var(--fill-color);\n",
              "    }\n",
              "    90% {\n",
              "      border-color: transparent;\n",
              "      border-bottom-color: var(--fill-color);\n",
              "    }\n",
              "  }\n",
              "</style>\n",
              "\n",
              "  <script>\n",
              "    async function quickchart(key) {\n",
              "      const quickchartButtonEl =\n",
              "        document.querySelector('#' + key + ' button');\n",
              "      quickchartButtonEl.disabled = true;  // To prevent multiple clicks.\n",
              "      quickchartButtonEl.classList.add('colab-df-spinner');\n",
              "      try {\n",
              "        const charts = await google.colab.kernel.invokeFunction(\n",
              "            'suggestCharts', [key], {});\n",
              "      } catch (error) {\n",
              "        console.error('Error during call to suggestCharts:', error);\n",
              "      }\n",
              "      quickchartButtonEl.classList.remove('colab-df-spinner');\n",
              "      quickchartButtonEl.classList.add('colab-df-quickchart-complete');\n",
              "    }\n",
              "    (() => {\n",
              "      let quickchartButtonEl =\n",
              "        document.querySelector('#df-5ef48dbb-17f3-4377-acee-12c64e76bf06 button');\n",
              "      quickchartButtonEl.style.display =\n",
              "        google.colab.kernel.accessAllowed ? 'block' : 'none';\n",
              "    })();\n",
              "  </script>\n",
              "</div>\n",
              "\n",
              "    </div>\n",
              "  </div>\n"
            ],
            "application/vnd.google.colaboratory.intrinsic+json": {
              "type": "dataframe",
              "variable_name": "df",
              "summary": "{\n  \"name\": \"df\",\n  \"rows\": 2999,\n  \"fields\": [\n    {\n      \"column\": \"email\",\n      \"properties\": {\n        \"dtype\": \"string\",\n        \"num_unique_values\": 2871,\n        \"samples\": [\n          \"see article type stuff passing various forum several year always found archaeology interest particular reason recent article u news actually still dank recess virtual repository james rogers jamesr url url defrost past ancient human animal remains melt glacier bounty warm world alex markels hike near colorado continental divide summer number ed knapp notice strange shape jutting melt ice field number number foot look like bison skull building contractor amateur archaeologist recall thought strange bison live high knapp brought skull denver museum nature science scientist last month announce indeed bison one die number year ago extraordinary discovery say rus graham museum chief curator add could alter notion mountain environment century ago probably lot like yet found bison colorado place glacier snowfield melt decade unusual warmth region peru alaska trend think link emission car industry shrunk thawed many world number number glacier ice recedes treasure trove human animal artifact emerge extraordinarily well preserve century deep freeze fabric wood bone dna rich tissue found mucky fringe ice revise scientist understand predecessor health habit technology prey pursue mind boggling many different field advanced study remains say johan reinhard high altitude archaeologist explorer residence national geographic society rare spectacular find like frozen mummy discover andes peru number legendary number number year old ice man found edge recede glacier alp number offer time capsule cultural biological information ice continue retreat yield occasional treasure long record human animal high mountain vanish act trick find specimen mother nature looter take first uncovered frozen remains deteriorate within hour gnawed animal moreover often well preserve emerge people come upon even realize ancient case three men hunt sheep near high glacier british columbia canada three year ago saw thought dead animal look little like sealskin bury ice recall warren ward teacher nearby nelson look closer could see leather fringe coat finger bone figure found remains another hunter perhaps fur trapper men stow flint knife artifact zip loc bag deliver local official archaeologist later exhume fall hunter body along woven hat fur clothing seem medicine bag carbon date reveal hunter live number year ago dubbed kwaday dan t inchi long ago person found people champagne aishihik first nation may direct descendant perhaps best preserve human period ever found north america finding melt ice neighbor yukon region could explain long ago person mountain first place archaeological record people living say greg hare yukon government archaeologist see area much part people seasonal activity like ward discovery search begin chance kristin benedek caught whiff smell like barnyard husband gerry kuzyk hunt sheep number number foot mountain south yukon follow scent melt patch ice cover caribou dung really odd knew caribou area least number year recall kuzyk wildlife biologist yukon government caribou cake return week later found look like pencil string wrap around turn number number year old atlatl spear thrower investigation ice patch score others around region reveal icy layer cake fill caribou remains human detritus chronicle number number year change hunt practice scientist believe ancient caribou animal flock ice summer cool escape swarm mosquito fly hunter follow game return century discard equipment ice get people hunt throw dart number number year ago say hare oversees research project see first appearance bow arrow number number year ago number number year ago throw dart scientist try make search less matter luck develop sophisticated computer model combine data glacier melt fast human animal know migrate pinpoint best place search alaska wrangell st elia mountain range united state glaciate terrain andes johan reinhard think fast thaw european alp could also deliver finding perhaps exquisite ice man global warm provide u high altitude archaeologist fantastic opportunity right probably one happy\",\n          \"url url date number number numbertnumber number number number number tbo\",\n          \"mixer specific alsa special stuff use addition mixer need something special built ago may need rebuild url url url matthias saou matthias egwn net write upon time ville write ah mixer stuff make look init script first place bother check whether exist stuff would work try assume silence success well try main pcm least volume level control either alsamixer good old aumix tell number day use alsa rock especially since full os compatibility result break nothing agree though number hour experience guess hope people list try problem report libasound wrong xine dependency fix current package oh maybe also worth point implement last sort last change date alphabetically build list php code url yes accept patch comment suggestion spec file matthias _______________________________________________ rpm list mail list rpm list freshrpms net angle geometry _______________________________________________ rpm list mail list rpm list freshrpms net url\"\n        ],\n        \"semantic_type\": \"\",\n        \"description\": \"\"\n      }\n    },\n    {\n      \"column\": \"label\",\n      \"properties\": {\n        \"dtype\": \"number\",\n        \"std\": 0,\n        \"min\": 0,\n        \"max\": 1,\n        \"num_unique_values\": 2,\n        \"samples\": [\n          1,\n          0\n        ],\n        \"semantic_type\": \"\",\n        \"description\": \"\"\n      }\n    }\n  ]\n}"
            }
          },
          "metadata": {},
          "execution_count": 14
        }
      ]
    },
    {
      "cell_type": "code",
      "source": [
        "# converting to vector\n",
        "max_words = 10000\n",
        "cv = CountVectorizer(max_features=max_words, stop_words='english')\n",
        "sparse_matrix = cv.fit_transform(df['email']).toarray()"
      ],
      "metadata": {
        "id": "rBLtshycPnpS"
      },
      "execution_count": 15,
      "outputs": []
    },
    {
      "cell_type": "code",
      "source": [
        "sparse_matrix.shape"
      ],
      "metadata": {
        "colab": {
          "base_uri": "https://localhost:8080/"
        },
        "id": "-vil4WNzPtwk",
        "outputId": "17a9545d-9a3e-46b4-e4a9-08ca89203848"
      },
      "execution_count": 16,
      "outputs": [
        {
          "output_type": "execute_result",
          "data": {
            "text/plain": [
              "(2999, 10000)"
            ]
          },
          "metadata": {},
          "execution_count": 16
        }
      ]
    },
    {
      "cell_type": "code",
      "source": [
        "# splitting the dataset\n",
        "x_train, x_test, y_train, y_test = train_test_split(sparse_matrix, np.array(df['label']))"
      ],
      "metadata": {
        "id": "bzc4bmejPvlE"
      },
      "execution_count": 17,
      "outputs": []
    },
    {
      "cell_type": "markdown",
      "source": [
        "# 4. defining the model"
      ],
      "metadata": {
        "id": "cwI7zXp_omF2"
      }
    },
    {
      "cell_type": "code",
      "source": [
        "class Model(nn.Module):\n",
        "    def __init__(self):\n",
        "        super().__init__()\n",
        "        self.linear1 = nn.Linear(10000, 100)\n",
        "        self.linear2 = nn.Linear(100, 10)\n",
        "        self.linear3 = nn.Linear(10, 2)\n",
        "\n",
        "    def forward(self, x):\n",
        "        x = F.relu(self.linear1(x))\n",
        "        x = F.relu(self.linear2(x))\n",
        "        x = self.linear3(x)\n",
        "        return x"
      ],
      "metadata": {
        "id": "KbXhAY5RP0dm"
      },
      "execution_count": 18,
      "outputs": []
    },
    {
      "cell_type": "code",
      "source": [
        "model = Model()"
      ],
      "metadata": {
        "id": "eLFA86YiP2bD"
      },
      "execution_count": 19,
      "outputs": []
    },
    {
      "cell_type": "code",
      "source": [
        "print(model)"
      ],
      "metadata": {
        "colab": {
          "base_uri": "https://localhost:8080/"
        },
        "id": "6Tydl3oVP_EN",
        "outputId": "4afc80f2-1dfc-41d4-8e20-0d70497aee77"
      },
      "execution_count": 20,
      "outputs": [
        {
          "output_type": "stream",
          "name": "stdout",
          "text": [
            "Model(\n",
            "  (linear1): Linear(in_features=10000, out_features=100, bias=True)\n",
            "  (linear2): Linear(in_features=100, out_features=10, bias=True)\n",
            "  (linear3): Linear(in_features=10, out_features=2, bias=True)\n",
            ")\n"
          ]
        }
      ]
    },
    {
      "cell_type": "code",
      "source": [
        "# number of parameter\n",
        "sum(p.numel() for p in model.parameters())"
      ],
      "metadata": {
        "colab": {
          "base_uri": "https://localhost:8080/"
        },
        "id": "V7IK_v5GvehF",
        "outputId": "d020b0af-eb34-434f-8acd-fe96b27e8b1c"
      },
      "execution_count": 21,
      "outputs": [
        {
          "output_type": "execute_result",
          "data": {
            "text/plain": [
              "1001132"
            ]
          },
          "metadata": {},
          "execution_count": 21
        }
      ]
    },
    {
      "cell_type": "code",
      "source": [
        "criterion = nn.CrossEntropyLoss()\n",
        "optimizer = torch.optim.Adam(params=model.parameters() , lr=0.001)"
      ],
      "metadata": {
        "id": "x9Ms4izVP9-D"
      },
      "execution_count": 22,
      "outputs": []
    },
    {
      "cell_type": "code",
      "source": [
        "x_train = Variable(torch.from_numpy(x_train)).float()\n",
        "y_train = Variable(torch.from_numpy(y_train)).long()\n",
        "x_test = Variable(torch.from_numpy(x_test)).float()\n",
        "y_test = Variable(torch.from_numpy(y_test)).long()"
      ],
      "metadata": {
        "id": "51QNL0Y7QDew"
      },
      "execution_count": 23,
      "outputs": []
    },
    {
      "cell_type": "markdown",
      "source": [
        "# Training and testing the model"
      ],
      "metadata": {
        "id": "qsRdhSxIorjG"
      }
    },
    {
      "cell_type": "code",
      "source": [
        "epochs = 35\n",
        "loss_values = []\n",
        "val_loss_values = []\n",
        "for epoch in range(epochs):\n",
        "    y_pred = model(x_train)\n",
        "\n",
        "    loss = criterion(y_pred, y_train)\n",
        "\n",
        "    loss_values.append(loss.item())\n",
        "\n",
        "    pred = torch.max(y_pred, 1)[1].eq(y_train).sum()\n",
        "    acc = pred * 100.0 / len(x_train)\n",
        "\n",
        "    with torch.no_grad():\n",
        "      val_y_pred = model(x_test)\n",
        "      val_loss = criterion(val_y_pred, y_test)\n",
        "      val_loss_values.append(val_loss.item())\n",
        "      val_pred = torch.max(val_y_pred, 1)[1].eq(y_test).sum()\n",
        "      val_acc = (100*val_pred/len(x_test))\n",
        "\n",
        "    print(f'Epoch: {epoch+1} train loss: {loss.item():2f} - train accuracy: {acc.numpy():2f} --- val loss: {val_loss.item():2f} - val_ accuracy: {val_acc.numpy():2f}')\n",
        "\n",
        "    optimizer.zero_grad()\n",
        "    loss.backward()\n",
        "    optimizer.step()"
      ],
      "metadata": {
        "colab": {
          "base_uri": "https://localhost:8080/"
        },
        "id": "Gs4HcyLSQFm7",
        "outputId": "3778fad6-c53c-4d46-fe45-49810f9654eb"
      },
      "execution_count": 24,
      "outputs": [
        {
          "output_type": "stream",
          "name": "stdout",
          "text": [
            "Epoch: 1 train loss: 0.610190 - train accuracy: 83.325920 --- val loss: 0.610999 - val_ accuracy: 82.666664\n",
            "Epoch: 2 train loss: 0.574766 - train accuracy: 83.726097 --- val loss: 0.577320 - val_ accuracy: 83.466667\n",
            "Epoch: 3 train loss: 0.542854 - train accuracy: 84.126282 --- val loss: 0.549377 - val_ accuracy: 83.866669\n",
            "Epoch: 4 train loss: 0.509533 - train accuracy: 85.326813 --- val loss: 0.520493 - val_ accuracy: 84.266670\n",
            "Epoch: 5 train loss: 0.474214 - train accuracy: 86.883057 --- val loss: 0.489143 - val_ accuracy: 85.733330\n",
            "Epoch: 6 train loss: 0.438647 - train accuracy: 89.373055 --- val loss: 0.456686 - val_ accuracy: 88.133331\n",
            "Epoch: 7 train loss: 0.404353 - train accuracy: 92.307693 --- val loss: 0.424999 - val_ accuracy: 90.533333\n",
            "Epoch: 8 train loss: 0.372036 - train accuracy: 94.530899 --- val loss: 0.395117 - val_ accuracy: 92.400002\n",
            "Epoch: 9 train loss: 0.341924 - train accuracy: 96.398399 --- val loss: 0.367236 - val_ accuracy: 95.466667\n",
            "Epoch: 10 train loss: 0.313896 - train accuracy: 97.243217 --- val loss: 0.341274 - val_ accuracy: 96.133331\n",
            "Epoch: 11 train loss: 0.287860 - train accuracy: 97.598930 --- val loss: 0.317145 - val_ accuracy: 96.533333\n",
            "Epoch: 12 train loss: 0.263741 - train accuracy: 97.910179 --- val loss: 0.294688 - val_ accuracy: 96.933334\n",
            "Epoch: 13 train loss: 0.241448 - train accuracy: 98.221436 --- val loss: 0.273877 - val_ accuracy: 97.466667\n",
            "Epoch: 14 train loss: 0.220777 - train accuracy: 98.488220 --- val loss: 0.254591 - val_ accuracy: 97.599998\n",
            "Epoch: 15 train loss: 0.201527 - train accuracy: 98.621613 --- val loss: 0.236755 - val_ accuracy: 97.733330\n",
            "Epoch: 16 train loss: 0.183652 - train accuracy: 98.755005 --- val loss: 0.220312 - val_ accuracy: 98.133331\n",
            "Epoch: 17 train loss: 0.167258 - train accuracy: 98.888397 --- val loss: 0.205288 - val_ accuracy: 98.133331\n",
            "Epoch: 18 train loss: 0.152322 - train accuracy: 98.977325 --- val loss: 0.191644 - val_ accuracy: 98.533333\n",
            "Epoch: 19 train loss: 0.138795 - train accuracy: 98.977325 --- val loss: 0.179321 - val_ accuracy: 98.666664\n",
            "Epoch: 20 train loss: 0.126600 - train accuracy: 98.977325 --- val loss: 0.168223 - val_ accuracy: 98.666664\n",
            "Epoch: 21 train loss: 0.115645 - train accuracy: 99.110718 --- val loss: 0.158264 - val_ accuracy: 98.666664\n",
            "Epoch: 22 train loss: 0.105818 - train accuracy: 99.110718 --- val loss: 0.149370 - val_ accuracy: 98.666664\n",
            "Epoch: 23 train loss: 0.097002 - train accuracy: 99.110718 --- val loss: 0.141435 - val_ accuracy: 98.800003\n",
            "Epoch: 24 train loss: 0.089087 - train accuracy: 99.199646 --- val loss: 0.134314 - val_ accuracy: 98.800003\n",
            "Epoch: 25 train loss: 0.081982 - train accuracy: 99.288574 --- val loss: 0.127975 - val_ accuracy: 98.800003\n",
            "Epoch: 26 train loss: 0.075595 - train accuracy: 99.333038 --- val loss: 0.122341 - val_ accuracy: 98.933334\n",
            "Epoch: 27 train loss: 0.069844 - train accuracy: 99.377502 --- val loss: 0.117340 - val_ accuracy: 98.933334\n",
            "Epoch: 28 train loss: 0.064664 - train accuracy: 99.377502 --- val loss: 0.112924 - val_ accuracy: 98.933334\n",
            "Epoch: 29 train loss: 0.059991 - train accuracy: 99.377502 --- val loss: 0.109034 - val_ accuracy: 98.933334\n",
            "Epoch: 30 train loss: 0.055767 - train accuracy: 99.466431 --- val loss: 0.105605 - val_ accuracy: 98.933334\n",
            "Epoch: 31 train loss: 0.051944 - train accuracy: 99.510895 --- val loss: 0.102581 - val_ accuracy: 98.933334\n",
            "Epoch: 32 train loss: 0.048480 - train accuracy: 99.555359 --- val loss: 0.099885 - val_ accuracy: 98.933334\n",
            "Epoch: 33 train loss: 0.045335 - train accuracy: 99.599823 --- val loss: 0.097454 - val_ accuracy: 98.933334\n",
            "Epoch: 34 train loss: 0.042475 - train accuracy: 99.599823 --- val loss: 0.095260 - val_ accuracy: 98.933334\n",
            "Epoch: 35 train loss: 0.039870 - train accuracy: 99.644287 --- val loss: 0.093288 - val_ accuracy: 98.933334\n"
          ]
        }
      ]
    },
    {
      "cell_type": "code",
      "source": [
        "plt.plot(loss_values, label = 'train_loss')\n",
        "plt.plot(val_loss_values, label = 'val_loss')\n",
        "plt.title('Losses vs Epochs')\n",
        "plt.xlabel('Epochs')\n",
        "plt.ylabel('Loss')\n",
        "plt.legend(['Loss'])\n",
        "plt.show()"
      ],
      "metadata": {
        "colab": {
          "base_uri": "https://localhost:8080/",
          "height": 472
        },
        "id": "ufYkP67DQJKI",
        "outputId": "90c7ff21-1f86-40b9-c7a0-75206c9fe1e2"
      },
      "execution_count": 25,
      "outputs": [
        {
          "output_type": "display_data",
          "data": {
            "text/plain": [
              "<Figure size 640x480 with 1 Axes>"
            ],
            "image/png": "[encoded data removed]"
          },
          "metadata": {}
        }
      ]
    },
    {
      "cell_type": "code",
      "source": [
        "model.eval()\n",
        "with torch.no_grad():\n",
        "    y_pred = model(x_test)\n",
        "    loss = criterion(y_pred, y_test)\n",
        "    pred = torch.max(y_pred, 1)[1].eq(y_test).sum()\n",
        "    print (\"Accuracy : {}%\".format((100*pred/len(x_test))))"
      ],
      "metadata": {
        "colab": {
          "base_uri": "https://localhost:8080/"
        },
        "id": "rO1QPf99QTTb",
        "outputId": "138b0363-6187-43bb-8b72-7427475c1197"
      },
      "execution_count": 26,
      "outputs": [
        {
          "output_type": "stream",
          "name": "stdout",
          "text": [
            "Accuracy : 99.06666564941406%\n"
          ]
        }
      ]
    }
  ]
}